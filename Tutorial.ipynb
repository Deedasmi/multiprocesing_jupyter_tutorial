{
 "cells": [
  {
   "cell_type": "markdown",
   "metadata": {},
   "source": [
    "# Multiprocessing tutorial\n",
    "By Richard Petrie"
   ]
  },
  {
   "cell_type": "markdown",
   "metadata": {},
   "source": [
    "## The goal of this tutorial\n",
    "In this tutorial we will cover why we would want to use multi-processing to do data analytics. In class we've only worked on small data sets. A few hundred lines, maybe a couple megabytes. In this tutorial we will analyze a 4.3GB file containing more than 446 million passwords. We will face two major challenges\n",
    "\n",
    "First, with large files we won't be able to fit the entire dataset into memory. While we technically could with this 4.3GB file, I hope to do similiar work on a 170GB file in the future. That file definitly would not fit in our machine's memory. We beat this by only reading a part of the file at a time.\n",
    "\n",
    "Second, there is a lot of work to do. Every operation I want to perform on these words, like finding the most common letter, I have to do 446 million times. Since each password can be analyzed individually regardless of how the other passwords look, we can do multiple words at a time."
   ]
  },
  {
   "cell_type": "markdown",
   "metadata": {},
   "source": [
    "## What is multi processing?\n",
    "In short, it's using multiple processes to do a single job. Here is a handy picture that does a good job representing what is happening.\n",
    "\n",
    "![apprize](images/multiprocess.jpg)\n",
    "\n",
    "As you can see, the child proceses are talking back to the main process who is the only one reading from the disk. This means we don't have multiple processes reading form the file (which is VERY hard), but we can put the child processes to work.\n",
    "\n",
    "Without further ado, on to the code!"
   ]
  },
  {
   "cell_type": "markdown",
   "metadata": {},
   "source": [
    "## The imports\n",
    "We used Counter and csv in class, so I'm going to skip those two.\n",
    "\n",
    "* time: We use this module to track how long our code takes to run, so we know how much faster it is to run concurrently.\n",
    "* os: I developed this on both a Windows and Linux machine, this library makes it easier for me to switch between my machines.\n",
    "* multiprocessing: This is the core 'magic' of the program. Python's built in module for opening child processes and communicating with them. The \"Pool\" object here is an easy way to create a 'resource pool'. The \"Queue\" object is used so the main process can communicate with the child processes\n",
    "* multiprocessing.dummy: There is a bug on Windows that prevents the main multiprocessing library from working inside Jupyter. This library fixes that.\n",
    "* queue: I import an error code here so I can know when we are done communicating with the child processes"
   ]
  },
  {
   "cell_type": "code",
   "execution_count": 1,
   "metadata": {
    "collapsed": true
   },
   "outputs": [],
   "source": [
    "import time\n",
    "import csv\n",
    "from collections import Counter, defaultdict\n",
    "import os\n",
    "if os.name == \"nt\":\n",
    "    from multiprocessing.dummy import Pool, Queue\n",
    "else:\n",
    "    from multiprocessing import Pool, Queue\n",
    "from queue import Empty"
   ]
  },
  {
   "cell_type": "markdown",
   "metadata": {},
   "source": [
    "## Constants\n",
    "We haven't done this in class, but I use some values multiple times throughout my entire program, and they never change. To make it easier, I keep all of those values up here."
   ]
  },
  {
   "cell_type": "code",
   "execution_count": 2,
   "metadata": {},
   "outputs": [
    {
     "name": "stdout",
     "output_type": "stream",
     "text": [
      "We will read up to 500,000 passwords from D:/password/no_null.csv\n"
     ]
    }
   ],
   "source": [
    "# Constants.\n",
    "# Change this to change program function\n",
    "\n",
    "# The file with the passwords\n",
    "if os.name == \"nt\":\n",
    "    FILEPATH = \"D:/password/no_null.csv\"\n",
    "else:\n",
    "    FILEPATH = \"/home/richardp/passwords/no_null.csv\"\n",
    "\n",
    "# Number of passwords to read from disk before passing to CPU\n",
    "PER_ITER = 1000#000\n",
    "\n",
    "# Number of iterations to to run\n",
    "ITER_MAX = 500\n",
    "total_pass = PER_ITER * ITER_MAX\n",
    "print(f\"We will read up to {total_pass:,} passwords from {FILEPATH}\")\n",
    "\n",
    "# Process inter-communication\n",
    "jobs = Queue(maxsize=6)\n",
    "results = Queue()"
   ]
  },
  {
   "cell_type": "markdown",
   "metadata": {},
   "source": [
    "## The first problem: Dealing with large datasets\n",
    "Having a lot of data is both a good thing. It allows us to find more interesting facts about our data. For example, I could ask this dataset if the most common third character in a password was a number or letter. With only 100 passwords I don't have significant confidence in what my data is telling me. With nearly 450 million passwords I can make a pretty effective guess. \n",
    "\n",
    "However, it is also a burdan. It takes time to process all that data. For example, my test case has been a 4.3GB csv file that contains no columns, only a single password per line. When we attempt to load this into a pandas dataframe, pandas attempts to analyze it all at once and does so very ineffeciently. When I attempted this on my computer with 16 GB of RAM, pandas kept trying to analyze my 4.3GB file until it had taken up nearly 25 GB of memory, well more than my computer actually has. It didn't even finish, I had to kill the process.\n",
    "\n",
    "![](images/pandas.PNG)\n",
    "\n",
    "To solve this problem, we write something like this. This code is a special type of function called a generator. It allows us to read small pieces of the file, and analyze chunks of it at a time instead of all at once. This does prevent us from doing any type of correlation analysis directly on the data, as we will never have all of the data at once. In my case, this is fine. "
   ]
  },
  {
   "cell_type": "code",
   "execution_count": 3,
   "metadata": {
    "collapsed": true
   },
   "outputs": [],
   "source": [
    "def read_passwords(per_iter=PER_ITER, iterations=ITER_MAX):\n",
    "    with open(FILEPATH, newline='', encoding=\"latin1\") as csvfile:\n",
    "        reader = csv.reader(csvfile, delimiter='\\n', quoting= csv.QUOTE_NONE)\n",
    "        # This loop controls how many times you read from the file.\n",
    "        # This is useful if you don't want to read the entire file.\n",
    "        for _ in range(iterations):\n",
    "            words = []\n",
    "            # This loop controls how many passwords you read each time you loop over it.\n",
    "            # Useful for controlling the amount of RAM in use.\n",
    "            for _ in range(per_iter):\n",
    "                try:\n",
    "                    word = next(reader)\n",
    "                    words.append(word)\n",
    "                except StopIteration:\n",
    "                    break\n",
    "            yield words"
   ]
  },
  {
   "cell_type": "markdown",
   "metadata": {},
   "source": [
    "## Not using pandas\n",
    "The problem remains that Pandas is doing significantly more calculations than we need for our data. This means that in order to analyze our data we will be dealing with a lot of things we don't need, which we will call overhead. In this case, at least 20GB of data that was loaded we didn't need. This severely increases the time it takes to analyze large data sets. So we have decided to not use Pandas, and instead build our own analysis tools. The Data class below acts very similiar to a pandas DataFrame. "
   ]
  },
  {
   "cell_type": "code",
   "execution_count": 4,
   "metadata": {
    "collapsed": true
   },
   "outputs": [],
   "source": [
    "class Data:\n",
    "    # Similiar to how you might call pd.DataFrame() to create a DataFrame\n",
    "    # you could call Data() to create this Data object.\n",
    "    # __init__ is a special function that helps create the object\n",
    "    def __init__(self, words=None):\n",
    "        # This field will track the length of every password\n",
    "        self.len_counter = Counter()\n",
    "        # This value will equal the number of passwords we analyzed\n",
    "        self.word_count = 0\n",
    "        # This is useful for troubleshooting how many Data objects we created\n",
    "        self.iterations = 1\n",
    "        # this counts how often every character is used in all the passwords we read\n",
    "        self.unique_chars = Counter()\n",
    "        # This contains len: entropy combinations\n",
    "        self.len_entropy = defaultdict(Counter)\n",
    "        \n",
    "        if words:\n",
    "            self.calculate(words)\n",
    "    \n",
    "    # This function is called when you attempt to add Data to something else\n",
    "    # In this case, it errors if that something else isn't also a Data object\n",
    "    def __add__(self, other):\n",
    "        if type(other) != Data:\n",
    "            raise TypeError(f\"Added {type(other)} to Data\")\n",
    "            \n",
    "        # This is a small optimization to make things faster\n",
    "        if self.word_count == 0:\n",
    "            return other\n",
    "        if other.word_count == 0:\n",
    "            return self\n",
    "        \n",
    "        # This code actually does all of the addition\n",
    "        self.word_count += other.word_count\n",
    "        self.len_counter.update(other.len_counter)\n",
    "        self.iterations += other.iterations\n",
    "        self.unique_chars.update(other.unique_chars)\n",
    "        for k in other.len_entropy.keys():\n",
    "            self.len_entropy[k].update(other.len_entropy[k])\n",
    "\n",
    "        return self\n",
    "    \n",
    "    # This is a special function that is called when you print() something\n",
    "    def __repr__(self):\n",
    "        return f\"We found {self.word_count:,} passwords.\"\n",
    "    \n",
    "    # We use this function to populate our values with the data we read from the CSV\n",
    "    def calculate(self, words):\n",
    "        for word in words:\n",
    "            w = str(word)\n",
    "            self.len_counter[len(w)] += 1\n",
    "            self.word_count += 1\n",
    "            \n",
    "            # This one line of code takes more time to run\n",
    "            # then all the other code here combined.\n",
    "            # It counts ever letter in a word, for all hundreds of millions of words\n",
    "            self.unique_chars.update(w)\n",
    "            \n",
    "            self.len_entropy[len(w)][entropy(w)] += 1\n",
    "            \n",
    "            \n",
    "    \n",
    "    def get_num_chars(self):\n",
    "        return sum(data.unique_chars.values())\n",
    "    \n",
    "def entropy(word):\n",
    "    u = 0\n",
    "    l = 0\n",
    "    n = 0\n",
    "    s = 0\n",
    "    rs = 0\n",
    "    o = 0\n",
    "    for c in word:\n",
    "        if c.isupper():\n",
    "            u = 1\n",
    "        elif c.islower():\n",
    "            l = 1\n",
    "        elif c.isdigit():\n",
    "            n = 1\n",
    "        elif c in '!@#$%^&*()':\n",
    "            s = 1\n",
    "        elif c in '`~-_=+,<.>/?;:\\'\"[{]}\\\\|])':\n",
    "            rs = 1\n",
    "        else:\n",
    "            o = 1\n",
    "    t = u+l+n+s+rs+o\n",
    "    return int(t)\n",
    "    "
   ]
  },
  {
   "cell_type": "markdown",
   "metadata": {},
   "source": [
    "## The Fun Part: Multiprocessing\n",
    "Multiprocessing is hard to explain. We are actually starting new python child processes to do our work for us. We are telling them to line up in front of a job board, and posting password lists to the board. They take the password list, do the calculations, and put the results in a different board. Then they get back in line for a new job. At the end, we collect all the results and combine them together.\n",
    "\n",
    "To keep our test code below clean, we've also made an object just to schedule and run our jobs."
   ]
  },
  {
   "cell_type": "code",
   "execution_count": 5,
   "metadata": {
    "collapsed": true
   },
   "outputs": [],
   "source": [
    "class JobHandler:\n",
    "    # You start a job handler with the number of processes you want to spawn\n",
    "    # so JobHandler(2) would start 2 child processes\n",
    "    def __init__(self, cores):\n",
    "        self.cores = cores\n",
    "        # This code spawns a number of child processes and tells them to run the counter \n",
    "        # function when they start\n",
    "        self.pool = Pool(cores, initializer=self.counter, initargs=(jobs, results))\n",
    "        self.word_generator = word_generator\n",
    "    \n",
    "    # This is the main function that you would run to do all the work.\n",
    "    def run(self,  word_generator):\n",
    "        self._schedule(word_generator)\n",
    "        return self._get_results()\n",
    "    \n",
    "    # We start a function with an underscore to indicate that you should not run it directly\n",
    "    # These function are for the object to use, not for the user to call.\n",
    "    # In this case, this function reads the data from the csvfile\n",
    "    # and tells the child processes what to do. Afterwards, it cleans them all up\n",
    "    def _schedule(self, word_generator):\n",
    "        for df in word_generator:\n",
    "            jobs.put(df)\n",
    "        for _ in range(self.cores): #tell workers we're done\n",
    "            jobs.put(None)\n",
    "        self.pool.close()\n",
    "        self.pool.join()\n",
    "\n",
    "    def _get_results(self):\n",
    "        data = Data()\n",
    "        while True:\n",
    "            try:\n",
    "                data += results.get_nowait()\n",
    "            except Empty:\n",
    "                break\n",
    "        return data\n",
    "    \n",
    "    # This is the function that the child processes will run in\n",
    "    # It does all the actual work to analyze the data\n",
    "    @staticmethod\n",
    "    def counter(jobs, response):\n",
    "        data = Data()\n",
    "        while True:\n",
    "            my_job = jobs.get()\n",
    "            if my_job is not None:\n",
    "                data += Data(my_job)\n",
    "            else:\n",
    "                response.put(data)\n",
    "                break\n",
    "            "
   ]
  },
  {
   "cell_type": "markdown",
   "metadata": {},
   "source": [
    "## So wait, why did we do this again?\n",
    "\n",
    "This code below opens our generator, and runs through the entire password file in a single process. This is the 'normal' version, with no special tricks. We still only read small chunks of the file at a time, but the same process reads from the file and does the calculations."
   ]
  },
  {
   "cell_type": "code",
   "execution_count": 6,
   "metadata": {},
   "outputs": [
    {
     "name": "stdout",
     "output_type": "stream",
     "text": [
      "Done after 500 iterations. Took 3.862387685822528 seconds\n",
      "We found 500,000 passwords.\n",
      "We counted 4,492,558 characters in total!\n"
     ]
    }
   ],
   "source": [
    "# Not threaded\n",
    "word_generator = read_passwords()\n",
    "data = Data()\n",
    "start = time.perf_counter()\n",
    "for words in word_generator:\n",
    "    data += Data(words)\n",
    "    \n",
    "elapsed = time.perf_counter() - start\n",
    "print(f\"Done after {data.iterations} iterations. Took {elapsed} seconds\")\n",
    "print(data)\n",
    "print(f\"We counted {data.get_num_chars():,} characters in total!\")"
   ]
  },
  {
   "cell_type": "markdown",
   "metadata": {},
   "source": [
    "## Alright, so what's the big deal?\n",
    "\n",
    "This code is the concurent one, which can both read from the file, and do the analysis at the same time. In fact, it does 4 sections of the CSV file all at the same time while the main process is the one reading from the file."
   ]
  },
  {
   "cell_type": "code",
   "execution_count": 7,
   "metadata": {},
   "outputs": [
    {
     "name": "stdout",
     "output_type": "stream",
     "text": [
      "Done after 500 iterations. Took 3.9799574543904455 seconds\n",
      "Difference was -2.998331913882702%\n",
      "We found 500,000 passwords.\n",
      "We counted 4,492,558 characters in total!\n"
     ]
    }
   ],
   "source": [
    "# Threaded\n",
    "start = time.perf_counter()\n",
    "data = JobHandler(4).run(read_passwords())\n",
    "elapsed2 = time.perf_counter() - start\n",
    "print(f\"Done after {data.iterations} iterations. Took {elapsed2} seconds\")\n",
    "diff = (elapsed - elapsed2) / ((elapsed + elapsed2) / 2) * 100\n",
    "print(f\"Difference was {diff}%\")\n",
    "print(data)\n",
    "print(f\"We counted {data.get_num_chars():,} characters in total!\")"
   ]
  },
  {
   "cell_type": "markdown",
   "metadata": {
    "collapsed": true
   },
   "source": [
    "## Oh hey, that was fast\n",
    "Yep! Thanks to the fact that we can process multiple pieces of our data set at once, we see a speedup of around 50%. And you can see that it found the same number of passwords, and the same number of characters! This way we know the the process works, and it allows us to do our work so much faster! If this scales linerally, on my 170GB file I will save hours on every run."
   ]
  },
  {
   "cell_type": "markdown",
   "metadata": {},
   "source": [
    "## But what now?\n",
    "Well, now you do the analysis as you usually would. Some interesting points of data to be considered:\n",
    "\n",
    "1. How complex passwords are (shown below)\n",
    "2. If passwords follow patterns (starting with an uppercase letter, ending with a number)\n",
    "3. The most common characters in passwords\n",
    "4. The most effecient way to guess passwords"
   ]
  },
  {
   "cell_type": "markdown",
   "metadata": {},
   "source": [
    "## Analysis example\n",
    "This pivot table shows the % of passwords of a given length that have an entropy value from 1 to 6. 1 being they only use the same kind of charcter (all lower case, all numbers, all symbols, etc). An entropy balue of 5 would mean they used 5 of the 6 types of chracters (numbers, lowercase letters, uppercase letters, etc)"
   ]
  },
  {
   "cell_type": "code",
   "execution_count": 59,
   "metadata": {},
   "outputs": [
    {
     "name": "stdout",
     "output_type": "stream",
     "text": [
      "Percent passwords with entropy by length\n"
     ]
    },
    {
     "data": {
      "text/html": [
       "<div>\n",
       "<style>\n",
       "    .dataframe thead tr:only-child th {\n",
       "        text-align: right;\n",
       "    }\n",
       "\n",
       "    .dataframe thead th {\n",
       "        text-align: left;\n",
       "    }\n",
       "\n",
       "    .dataframe tbody tr th {\n",
       "        vertical-align: top;\n",
       "    }\n",
       "</style>\n",
       "<table border=\"1\" class=\"dataframe\">\n",
       "  <thead>\n",
       "    <tr style=\"text-align: right;\">\n",
       "      <th></th>\n",
       "      <th>2</th>\n",
       "      <th>5</th>\n",
       "      <th>6</th>\n",
       "      <th>7</th>\n",
       "      <th>8</th>\n",
       "      <th>9</th>\n",
       "      <th>10</th>\n",
       "      <th>11</th>\n",
       "      <th>12</th>\n",
       "      <th>13</th>\n",
       "      <th>14</th>\n",
       "      <th>15</th>\n",
       "      <th>16</th>\n",
       "      <th>17</th>\n",
       "      <th>18</th>\n",
       "      <th>19</th>\n",
       "      <th>20</th>\n",
       "    </tr>\n",
       "  </thead>\n",
       "  <tbody>\n",
       "    <tr>\n",
       "      <th>1</th>\n",
       "      <td>100.0</td>\n",
       "      <td>25.0</td>\n",
       "      <td>10.305344</td>\n",
       "      <td>0.568182</td>\n",
       "      <td>22.196274</td>\n",
       "      <td>17.901773</td>\n",
       "      <td>17.505392</td>\n",
       "      <td>7.394610</td>\n",
       "      <td>14.220183</td>\n",
       "      <td>8.506944</td>\n",
       "      <td>6.585136</td>\n",
       "      <td>3.813038</td>\n",
       "      <td>31.288344</td>\n",
       "      <td>6.825939</td>\n",
       "      <td>18.348624</td>\n",
       "      <td>46.808511</td>\n",
       "      <td>42.307692</td>\n",
       "    </tr>\n",
       "    <tr>\n",
       "      <th>2</th>\n",
       "      <td>0.0</td>\n",
       "      <td>75.0</td>\n",
       "      <td>61.068702</td>\n",
       "      <td>48.295455</td>\n",
       "      <td>66.665782</td>\n",
       "      <td>81.990217</td>\n",
       "      <td>33.465133</td>\n",
       "      <td>32.135453</td>\n",
       "      <td>71.284404</td>\n",
       "      <td>18.750000</td>\n",
       "      <td>16.368768</td>\n",
       "      <td>59.778598</td>\n",
       "      <td>59.509202</td>\n",
       "      <td>11.945392</td>\n",
       "      <td>27.522936</td>\n",
       "      <td>42.553191</td>\n",
       "      <td>48.076923</td>\n",
       "    </tr>\n",
       "    <tr>\n",
       "      <th>3</th>\n",
       "      <td>0.0</td>\n",
       "      <td>0.0</td>\n",
       "      <td>28.625954</td>\n",
       "      <td>47.017045</td>\n",
       "      <td>10.758452</td>\n",
       "      <td>0.080344</td>\n",
       "      <td>21.710999</td>\n",
       "      <td>15.480304</td>\n",
       "      <td>7.247706</td>\n",
       "      <td>58.854167</td>\n",
       "      <td>33.960489</td>\n",
       "      <td>27.183272</td>\n",
       "      <td>4.294479</td>\n",
       "      <td>46.075085</td>\n",
       "      <td>18.348624</td>\n",
       "      <td>8.510638</td>\n",
       "      <td>9.615385</td>\n",
       "    </tr>\n",
       "    <tr>\n",
       "      <th>4</th>\n",
       "      <td>0.0</td>\n",
       "      <td>0.0</td>\n",
       "      <td>0.000000</td>\n",
       "      <td>4.119318</td>\n",
       "      <td>0.368876</td>\n",
       "      <td>0.026339</td>\n",
       "      <td>24.227175</td>\n",
       "      <td>31.167934</td>\n",
       "      <td>4.220183</td>\n",
       "      <td>13.541667</td>\n",
       "      <td>37.629351</td>\n",
       "      <td>6.150062</td>\n",
       "      <td>3.067485</td>\n",
       "      <td>35.153584</td>\n",
       "      <td>34.862385</td>\n",
       "      <td>2.127660</td>\n",
       "      <td>0.000000</td>\n",
       "    </tr>\n",
       "    <tr>\n",
       "      <th>5</th>\n",
       "      <td>0.0</td>\n",
       "      <td>0.0</td>\n",
       "      <td>0.000000</td>\n",
       "      <td>0.000000</td>\n",
       "      <td>0.010615</td>\n",
       "      <td>0.001107</td>\n",
       "      <td>3.091301</td>\n",
       "      <td>13.199724</td>\n",
       "      <td>2.660550</td>\n",
       "      <td>0.260417</td>\n",
       "      <td>5.456256</td>\n",
       "      <td>2.952030</td>\n",
       "      <td>1.840491</td>\n",
       "      <td>0.000000</td>\n",
       "      <td>0.917431</td>\n",
       "      <td>0.000000</td>\n",
       "      <td>0.000000</td>\n",
       "    </tr>\n",
       "    <tr>\n",
       "      <th>6</th>\n",
       "      <td>0.0</td>\n",
       "      <td>0.0</td>\n",
       "      <td>0.000000</td>\n",
       "      <td>0.000000</td>\n",
       "      <td>0.000000</td>\n",
       "      <td>0.000221</td>\n",
       "      <td>0.000000</td>\n",
       "      <td>0.621977</td>\n",
       "      <td>0.366972</td>\n",
       "      <td>0.086806</td>\n",
       "      <td>0.000000</td>\n",
       "      <td>0.123001</td>\n",
       "      <td>0.000000</td>\n",
       "      <td>0.000000</td>\n",
       "      <td>0.000000</td>\n",
       "      <td>0.000000</td>\n",
       "      <td>0.000000</td>\n",
       "    </tr>\n",
       "  </tbody>\n",
       "</table>\n",
       "</div>"
      ],
      "text/plain": [
       "      2     5          6          7          8          9          10  \\\n",
       "1  100.0  25.0  10.305344   0.568182  22.196274  17.901773  17.505392   \n",
       "2    0.0  75.0  61.068702  48.295455  66.665782  81.990217  33.465133   \n",
       "3    0.0   0.0  28.625954  47.017045  10.758452   0.080344  21.710999   \n",
       "4    0.0   0.0   0.000000   4.119318   0.368876   0.026339  24.227175   \n",
       "5    0.0   0.0   0.000000   0.000000   0.010615   0.001107   3.091301   \n",
       "6    0.0   0.0   0.000000   0.000000   0.000000   0.000221   0.000000   \n",
       "\n",
       "          11         12         13         14         15         16  \\\n",
       "1   7.394610  14.220183   8.506944   6.585136   3.813038  31.288344   \n",
       "2  32.135453  71.284404  18.750000  16.368768  59.778598  59.509202   \n",
       "3  15.480304   7.247706  58.854167  33.960489  27.183272   4.294479   \n",
       "4  31.167934   4.220183  13.541667  37.629351   6.150062   3.067485   \n",
       "5  13.199724   2.660550   0.260417   5.456256   2.952030   1.840491   \n",
       "6   0.621977   0.366972   0.086806   0.000000   0.123001   0.000000   \n",
       "\n",
       "          17         18         19         20  \n",
       "1   6.825939  18.348624  46.808511  42.307692  \n",
       "2  11.945392  27.522936  42.553191  48.076923  \n",
       "3  46.075085  18.348624   8.510638   9.615385  \n",
       "4  35.153584  34.862385   2.127660   0.000000  \n",
       "5   0.000000   0.917431   0.000000   0.000000  \n",
       "6   0.000000   0.000000   0.000000   0.000000  "
      ]
     },
     "execution_count": 59,
     "metadata": {},
     "output_type": "execute_result"
    }
   ],
   "source": [
    "import pandas as pd\n",
    "\n",
    "f = {k:v for k,v in data.len_entropy.items() if k<21}\n",
    "df = pd.DataFrame(f)\n",
    "df = df.fillna(0)\n",
    "cols = [2] + list(range(5,21))\n",
    "df[cols] = df[cols].div(df[cols].sum(), axis=1).multiply(100)\n",
    "print(\"Percent passwords with entropy by length\")\n",
    "df"
   ]
  },
  {
   "cell_type": "code",
   "execution_count": 60,
   "metadata": {},
   "outputs": [
    {
     "data": {
      "text/plain": [
       "<matplotlib.axes._subplots.AxesSubplot at 0x1e7ff668c88>"
      ]
     },
     "execution_count": 60,
     "metadata": {},
     "output_type": "execute_result"
    },
    {
     "data": {
      "image/png": "[encoded data removed]",
      "text/plain": [
       "<matplotlib.figure.Figure at 0x1e7ff6688d0>"
      ]
     },
     "metadata": {},
     "output_type": "display_data"
    }
   ],
   "source": [
    "import seaborn as sns\n",
    "%matplotlib inline\n",
    "\n",
    "sns.heatmap(df)"
   ]
  },
  {
   "cell_type": "markdown",
   "metadata": {
    "collapsed": true
   },
   "source": [
    "## Sources\n",
    "https://apprize.info/python/hdf5/9.html\n",
    "\n",
    "https://lethain.com/handling-very-large-csv-and-xml-files-in-python/"
   ]
  },
  {
   "cell_type": "code",
   "execution_count": null,
   "metadata": {
    "collapsed": true
   },
   "outputs": [],
   "source": []
  }
 ],
 "metadata": {
  "kernelspec": {
   "display_name": "Python 3",
   "language": "python",
   "name": "python3"
  },
  "language_info": {
   "codemirror_mode": {
    "name": "ipython",
    "version": 3
   },
   "file_extension": ".py",
   "mimetype": "text/x-python",
   "name": "python",
   "nbconvert_exporter": "python",
   "pygments_lexer": "ipython3",
   "version": "3.6.1"
  }
 },
 "nbformat": 4,
 "nbformat_minor": 2
}
